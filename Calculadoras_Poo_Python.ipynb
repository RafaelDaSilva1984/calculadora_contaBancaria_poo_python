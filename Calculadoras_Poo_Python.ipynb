{
 "cells": [
  {
   "cell_type": "markdown",
   "id": "e4f1730b",
   "metadata": {},
   "source": [
    "## Poo - Python"
   ]
  },
  {
   "cell_type": "code",
   "execution_count": 5,
   "id": "8b10b521",
   "metadata": {},
   "outputs": [
    {
     "name": "stdout",
     "output_type": "stream",
     "text": [
      "Digite o Primeiro número: 10\n",
      "Digite o Segungo número: 0\n",
      "10.0\n",
      "10.0\n",
      "0.0\n",
      "Divisor deve ser maior que ZERO\n"
     ]
    }
   ],
   "source": [
    "# exemplo 01 sem escolha de opções de cálculos\n",
    "class Calculadora():\n",
    "    def __init__ (self,n1,n2):\n",
    "        self.n1 = n1\n",
    "        self.n2 = n2\n",
    "    \n",
    "    def somar(self):\n",
    "        return self.n1 + self.n2\n",
    "    def subtrair(self):\n",
    "        return self.n1 - self.n2\n",
    "    def multiplicar(self):\n",
    "        return self.n1 * self.n2\n",
    "    def dividir(self):\n",
    "        if self.n2 > 0:\n",
    "            return self.n1 / self.n2\n",
    "        else:\n",
    "            return \"Divisor deve ser maior que ZERO\"\n",
    "    def entrada():\n",
    "        n1 = float(input(\"Digite o Primeiro número: \"))\n",
    "        n2 = float(input(\"Digite o Segungo número: \"))\n",
    "        return Calculadora(n1,n2)\n",
    "result = Calculadora.entrada()\n",
    "print(result.somar())\n",
    "print(result.subtrair())\n",
    "print(result.multiplicar())\n",
    "print(result.dividir())\n"
   ]
  },
  {
   "cell_type": "code",
   "execution_count": 1,
   "id": "0cbf5582",
   "metadata": {},
   "outputs": [
    {
     "name": "stdout",
     "output_type": "stream",
     "text": [
      "\n",
      "Escolha a opção desejada:\n",
      "[1] = Soma\n",
      "[2] = Subtração\n",
      "[3] = Divisão\n",
      "[4] = Multiplicação\n",
      "\n",
      "O resultado da operação é: 12.0\n"
     ]
    }
   ],
   "source": [
    "# exemplo 02 com mais opções\n",
    "class Calculadora:\n",
    "    def __init__(self, a, b):\n",
    "        self.a = a\n",
    "        self.b = b\n",
    "    \n",
    "    def soma(self):\n",
    "        return self.a + self.b\n",
    "    \n",
    "    def subtracao(self):\n",
    "        return self.a - self.b\n",
    "    \n",
    "    def divisao(self):        \n",
    "        while self.b == 0:\n",
    "            print(\"Divisor deve ser maior que zero.\")\n",
    "            try:\n",
    "                self.b = float(input(\"Digite NOVO valor de b: \"))\n",
    "            except ValueError:\n",
    "                print(\"Entrada inválida. Por favor, digite um número.\")\n",
    "        return self.a / self.b\n",
    "    \n",
    "    def multiplicacao(self):\n",
    "        return self.a * self.b\n",
    "    \n",
    "    @staticmethod\n",
    "    def entrada_valores():\n",
    "        while True:\n",
    "            try:\n",
    "                a = float(input(\"Digite valor de a: \"))\n",
    "                break\n",
    "            except ValueError:\n",
    "                print(\"Entrada inválida. Por favor, digite um número.\")\n",
    "        \n",
    "        while True:\n",
    "            try:\n",
    "                b = float(input(\"Digite valor de b: \"))\n",
    "                break\n",
    "            except ValueError:\n",
    "                print(\"Entrada inválida. Por favor, digite um número.\")\n",
    "        \n",
    "        return Calculadora(a, b)\n",
    "    \n",
    "    def opcao_calculo(self, opcao):\n",
    "        if opcao == 1:\n",
    "            return self.soma()\n",
    "        elif opcao == 2:\n",
    "            return self.subtracao()\n",
    "        elif opcao == 3:\n",
    "            return self.divisao()\n",
    "        elif opcao == 4:\n",
    "            return self.multiplicacao()\n",
    "        else:\n",
    "            return \"Opção inválida.\"\n",
    "\n",
    "# Solicita a opção do usuário\n",
    "print(\"\"\"\n",
    "Escolha a opção desejada:\n",
    "[1] = Soma\n",
    "[2] = Subtração\n",
    "[3] = Divisão\n",
    "[4] = Multiplicação\n",
    "\"\"\")\n",
    "\n",
    "while True:\n",
    "    try:\n",
    "        opcao = int(input(\"Digite a opção: \"))\n",
    "        if opcao in [1, 2, 3, 4]:\n",
    "            break\n",
    "        else:\n",
    "            print(\"Opção inválida. Por favor, escolha uma opção válida.\")\n",
    "    except ValueError:\n",
    "        print(\"Entrada inválida. Por favor, digite um número.\")\n",
    "\n",
    "# Obtém os valores e cria uma instância de Calculadora\n",
    "valores = Calculadora.entrada_valores()\n",
    "\n",
    "# Executa a operação escolhida\n",
    "resultado = valores.opcao_calculo(opcao)\n",
    "print(f\"O resultado da operação é: {resultado}\")\n"
   ]
  }
 ],
 "metadata": {
  "kernelspec": {
   "display_name": "Python 3 (ipykernel)",
   "language": "python",
   "name": "python3"
  },
  "language_info": {
   "codemirror_mode": {
    "name": "ipython",
    "version": 3
   },
   "file_extension": ".py",
   "mimetype": "text/x-python",
   "name": "python",
   "nbconvert_exporter": "python",
   "pygments_lexer": "ipython3",
   "version": "3.9.13"
  }
 },
 "nbformat": 4,
 "nbformat_minor": 5
}
